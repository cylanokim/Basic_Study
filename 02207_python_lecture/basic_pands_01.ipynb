{
 "metadata": {
  "language_info": {
   "codemirror_mode": {
    "name": "ipython",
    "version": 3
   },
   "file_extension": ".py",
   "mimetype": "text/x-python",
   "name": "python",
   "nbconvert_exporter": "python",
   "pygments_lexer": "ipython3",
   "version": "3.9.9-final"
  },
  "orig_nbformat": 2,
  "kernelspec": {
   "name": "python3",
   "display_name": "Python 3.9.9 64-bit ('venv': venv)",
   "metadata": {
    "interpreter": {
     "hash": "e7b3a6034bdbb97517a7e157a868360ea9556fc64bcbd52ab0af112bc2a38087"
    }
   }
  }
 },
 "nbformat": 4,
 "nbformat_minor": 2,
 "cells": [
  {
   "cell_type": "code",
   "execution_count": 1,
   "metadata": {},
   "outputs": [],
   "source": [
    "import numpy as np \n",
    "import pandas as pd\n",
    "import seaborn as sns"
   ]
  },
  {
   "cell_type": "code",
   "execution_count": 3,
   "metadata": {},
   "outputs": [
    {
     "output_type": "execute_result",
     "data": {
      "text/plain": [
       "    학년  반  번호 성별    성명   국어   수학   영어     물리    경제\n",
       "0    1  1   1  남   학생1  100  100   95    NaN   NaN\n",
       "1    1  1   2  여   학생2   65   65   95    NaN   NaN\n",
       "2    1  1   3  여   학생3   85   85   75    NaN   NaN\n",
       "3    1  1   4  남   학생4   70   95   90    NaN   NaN\n",
       "4    1  1   5  남   학생5  100   80   75    NaN   0.0\n",
       "5    1  2   1  여   학생6  100   55   60   85.0  50.0\n",
       "6    1  2   2  남   학생7   70   55  100    NaN  95.0\n",
       "7    1  2   3  여   학생8   60   80   95   55.0   NaN\n",
       "8    1  2   4  남   학생9   70   80   75   55.0   NaN\n",
       "9    1  2   5  여  학생10   55   80   95   90.0  75.0\n",
       "10   1  3   1  남  학생11   65   65   70    NaN   NaN\n",
       "11   1  3   2  남  학생12   95   90   90   70.0   NaN\n",
       "12   1  3   3  여  학생13   55   50   85    NaN  95.0\n",
       "13   1  3   4  남  학생14   90   60   75  100.0  85.0\n",
       "14   1  3   5  여  학생15   55   90   75   95.0  55.0"
      ],
      "text/html": "<div>\n<style scoped>\n    .dataframe tbody tr th:only-of-type {\n        vertical-align: middle;\n    }\n\n    .dataframe tbody tr th {\n        vertical-align: top;\n    }\n\n    .dataframe thead th {\n        text-align: right;\n    }\n</style>\n<table border=\"1\" class=\"dataframe\">\n  <thead>\n    <tr style=\"text-align: right;\">\n      <th></th>\n      <th>학년</th>\n      <th>반</th>\n      <th>번호</th>\n      <th>성별</th>\n      <th>성명</th>\n      <th>국어</th>\n      <th>수학</th>\n      <th>영어</th>\n      <th>물리</th>\n      <th>경제</th>\n    </tr>\n  </thead>\n  <tbody>\n    <tr>\n      <th>0</th>\n      <td>1</td>\n      <td>1</td>\n      <td>1</td>\n      <td>남</td>\n      <td>학생1</td>\n      <td>100</td>\n      <td>100</td>\n      <td>95</td>\n      <td>NaN</td>\n      <td>NaN</td>\n    </tr>\n    <tr>\n      <th>1</th>\n      <td>1</td>\n      <td>1</td>\n      <td>2</td>\n      <td>여</td>\n      <td>학생2</td>\n      <td>65</td>\n      <td>65</td>\n      <td>95</td>\n      <td>NaN</td>\n      <td>NaN</td>\n    </tr>\n    <tr>\n      <th>2</th>\n      <td>1</td>\n      <td>1</td>\n      <td>3</td>\n      <td>여</td>\n      <td>학생3</td>\n      <td>85</td>\n      <td>85</td>\n      <td>75</td>\n      <td>NaN</td>\n      <td>NaN</td>\n    </tr>\n    <tr>\n      <th>3</th>\n      <td>1</td>\n      <td>1</td>\n      <td>4</td>\n      <td>남</td>\n      <td>학생4</td>\n      <td>70</td>\n      <td>95</td>\n      <td>90</td>\n      <td>NaN</td>\n      <td>NaN</td>\n    </tr>\n    <tr>\n      <th>4</th>\n      <td>1</td>\n      <td>1</td>\n      <td>5</td>\n      <td>남</td>\n      <td>학생5</td>\n      <td>100</td>\n      <td>80</td>\n      <td>75</td>\n      <td>NaN</td>\n      <td>0.0</td>\n    </tr>\n    <tr>\n      <th>5</th>\n      <td>1</td>\n      <td>2</td>\n      <td>1</td>\n      <td>여</td>\n      <td>학생6</td>\n      <td>100</td>\n      <td>55</td>\n      <td>60</td>\n      <td>85.0</td>\n      <td>50.0</td>\n    </tr>\n    <tr>\n      <th>6</th>\n      <td>1</td>\n      <td>2</td>\n      <td>2</td>\n      <td>남</td>\n      <td>학생7</td>\n      <td>70</td>\n      <td>55</td>\n      <td>100</td>\n      <td>NaN</td>\n      <td>95.0</td>\n    </tr>\n    <tr>\n      <th>7</th>\n      <td>1</td>\n      <td>2</td>\n      <td>3</td>\n      <td>여</td>\n      <td>학생8</td>\n      <td>60</td>\n      <td>80</td>\n      <td>95</td>\n      <td>55.0</td>\n      <td>NaN</td>\n    </tr>\n    <tr>\n      <th>8</th>\n      <td>1</td>\n      <td>2</td>\n      <td>4</td>\n      <td>남</td>\n      <td>학생9</td>\n      <td>70</td>\n      <td>80</td>\n      <td>75</td>\n      <td>55.0</td>\n      <td>NaN</td>\n    </tr>\n    <tr>\n      <th>9</th>\n      <td>1</td>\n      <td>2</td>\n      <td>5</td>\n      <td>여</td>\n      <td>학생10</td>\n      <td>55</td>\n      <td>80</td>\n      <td>95</td>\n      <td>90.0</td>\n      <td>75.0</td>\n    </tr>\n    <tr>\n      <th>10</th>\n      <td>1</td>\n      <td>3</td>\n      <td>1</td>\n      <td>남</td>\n      <td>학생11</td>\n      <td>65</td>\n      <td>65</td>\n      <td>70</td>\n      <td>NaN</td>\n      <td>NaN</td>\n    </tr>\n    <tr>\n      <th>11</th>\n      <td>1</td>\n      <td>3</td>\n      <td>2</td>\n      <td>남</td>\n      <td>학생12</td>\n      <td>95</td>\n      <td>90</td>\n      <td>90</td>\n      <td>70.0</td>\n      <td>NaN</td>\n    </tr>\n    <tr>\n      <th>12</th>\n      <td>1</td>\n      <td>3</td>\n      <td>3</td>\n      <td>여</td>\n      <td>학생13</td>\n      <td>55</td>\n      <td>50</td>\n      <td>85</td>\n      <td>NaN</td>\n      <td>95.0</td>\n    </tr>\n    <tr>\n      <th>13</th>\n      <td>1</td>\n      <td>3</td>\n      <td>4</td>\n      <td>남</td>\n      <td>학생14</td>\n      <td>90</td>\n      <td>60</td>\n      <td>75</td>\n      <td>100.0</td>\n      <td>85.0</td>\n    </tr>\n    <tr>\n      <th>14</th>\n      <td>1</td>\n      <td>3</td>\n      <td>5</td>\n      <td>여</td>\n      <td>학생15</td>\n      <td>55</td>\n      <td>90</td>\n      <td>75</td>\n      <td>95.0</td>\n      <td>55.0</td>\n    </tr>\n  </tbody>\n</table>\n</div>"
     },
     "metadata": {},
     "execution_count": 3
    }
   ],
   "source": [
    "df = pd.read_csv(r'C:\\labs\\src\\datasets\\성적통계.csv', encoding='ansi')\n",
    "df"
   ]
  },
  {
   "cell_type": "code",
   "execution_count": 8,
   "metadata": {},
   "outputs": [
    {
     "output_type": "execute_result",
     "data": {
      "text/plain": [
       "(RangeIndex(start=0, stop=15, step=1),\n",
       " Index(['학년', '반', '번호', '성별', '성명', '국어', '수학', '영어', '물리', '경제'], dtype='object'),\n",
       " 150)"
      ]
     },
     "metadata": {},
     "execution_count": 8
    }
   ],
   "source": [
    "df.index, df.columns, df.size"
   ]
  },
  {
   "cell_type": "code",
   "execution_count": 9,
   "metadata": {},
   "outputs": [
    {
     "output_type": "execute_result",
     "data": {
      "text/plain": [
       "      성명   국어   수학   영어     물리    경제\n",
       "0    학생1  100  100   95    NaN   NaN\n",
       "1    학생2   65   65   95    NaN   NaN\n",
       "2    학생3   85   85   75    NaN   NaN\n",
       "3    학생4   70   95   90    NaN   NaN\n",
       "4    학생5  100   80   75    NaN   0.0\n",
       "5    학생6  100   55   60   85.0  50.0\n",
       "6    학생7   70   55  100    NaN  95.0\n",
       "7    학생8   60   80   95   55.0   NaN\n",
       "8    학생9   70   80   75   55.0   NaN\n",
       "9   학생10   55   80   95   90.0  75.0\n",
       "10  학생11   65   65   70    NaN   NaN\n",
       "11  학생12   95   90   90   70.0   NaN\n",
       "12  학생13   55   50   85    NaN  95.0\n",
       "13  학생14   90   60   75  100.0  85.0\n",
       "14  학생15   55   90   75   95.0  55.0"
      ],
      "text/html": "<div>\n<style scoped>\n    .dataframe tbody tr th:only-of-type {\n        vertical-align: middle;\n    }\n\n    .dataframe tbody tr th {\n        vertical-align: top;\n    }\n\n    .dataframe thead th {\n        text-align: right;\n    }\n</style>\n<table border=\"1\" class=\"dataframe\">\n  <thead>\n    <tr style=\"text-align: right;\">\n      <th></th>\n      <th>성명</th>\n      <th>국어</th>\n      <th>수학</th>\n      <th>영어</th>\n      <th>물리</th>\n      <th>경제</th>\n    </tr>\n  </thead>\n  <tbody>\n    <tr>\n      <th>0</th>\n      <td>학생1</td>\n      <td>100</td>\n      <td>100</td>\n      <td>95</td>\n      <td>NaN</td>\n      <td>NaN</td>\n    </tr>\n    <tr>\n      <th>1</th>\n      <td>학생2</td>\n      <td>65</td>\n      <td>65</td>\n      <td>95</td>\n      <td>NaN</td>\n      <td>NaN</td>\n    </tr>\n    <tr>\n      <th>2</th>\n      <td>학생3</td>\n      <td>85</td>\n      <td>85</td>\n      <td>75</td>\n      <td>NaN</td>\n      <td>NaN</td>\n    </tr>\n    <tr>\n      <th>3</th>\n      <td>학생4</td>\n      <td>70</td>\n      <td>95</td>\n      <td>90</td>\n      <td>NaN</td>\n      <td>NaN</td>\n    </tr>\n    <tr>\n      <th>4</th>\n      <td>학생5</td>\n      <td>100</td>\n      <td>80</td>\n      <td>75</td>\n      <td>NaN</td>\n      <td>0.0</td>\n    </tr>\n    <tr>\n      <th>5</th>\n      <td>학생6</td>\n      <td>100</td>\n      <td>55</td>\n      <td>60</td>\n      <td>85.0</td>\n      <td>50.0</td>\n    </tr>\n    <tr>\n      <th>6</th>\n      <td>학생7</td>\n      <td>70</td>\n      <td>55</td>\n      <td>100</td>\n      <td>NaN</td>\n      <td>95.0</td>\n    </tr>\n    <tr>\n      <th>7</th>\n      <td>학생8</td>\n      <td>60</td>\n      <td>80</td>\n      <td>95</td>\n      <td>55.0</td>\n      <td>NaN</td>\n    </tr>\n    <tr>\n      <th>8</th>\n      <td>학생9</td>\n      <td>70</td>\n      <td>80</td>\n      <td>75</td>\n      <td>55.0</td>\n      <td>NaN</td>\n    </tr>\n    <tr>\n      <th>9</th>\n      <td>학생10</td>\n      <td>55</td>\n      <td>80</td>\n      <td>95</td>\n      <td>90.0</td>\n      <td>75.0</td>\n    </tr>\n    <tr>\n      <th>10</th>\n      <td>학생11</td>\n      <td>65</td>\n      <td>65</td>\n      <td>70</td>\n      <td>NaN</td>\n      <td>NaN</td>\n    </tr>\n    <tr>\n      <th>11</th>\n      <td>학생12</td>\n      <td>95</td>\n      <td>90</td>\n      <td>90</td>\n      <td>70.0</td>\n      <td>NaN</td>\n    </tr>\n    <tr>\n      <th>12</th>\n      <td>학생13</td>\n      <td>55</td>\n      <td>50</td>\n      <td>85</td>\n      <td>NaN</td>\n      <td>95.0</td>\n    </tr>\n    <tr>\n      <th>13</th>\n      <td>학생14</td>\n      <td>90</td>\n      <td>60</td>\n      <td>75</td>\n      <td>100.0</td>\n      <td>85.0</td>\n    </tr>\n    <tr>\n      <th>14</th>\n      <td>학생15</td>\n      <td>55</td>\n      <td>90</td>\n      <td>75</td>\n      <td>95.0</td>\n      <td>55.0</td>\n    </tr>\n  </tbody>\n</table>\n</div>"
     },
     "metadata": {},
     "execution_count": 9
    }
   ],
   "source": [
    "df.drop(['학년', '반', '번호', '성별'], axis=1, inplace=True)\n",
    "df"
   ]
  },
  {
   "cell_type": "code",
   "execution_count": 10,
   "metadata": {},
   "outputs": [
    {
     "output_type": "execute_result",
     "data": {
      "text/plain": [
       "       국어   수학   영어     물리    경제\n",
       "성명                              \n",
       "학생1   100  100   95    NaN   NaN\n",
       "학생2    65   65   95    NaN   NaN\n",
       "학생3    85   85   75    NaN   NaN\n",
       "학생4    70   95   90    NaN   NaN\n",
       "학생5   100   80   75    NaN   0.0\n",
       "학생6   100   55   60   85.0  50.0\n",
       "학생7    70   55  100    NaN  95.0\n",
       "학생8    60   80   95   55.0   NaN\n",
       "학생9    70   80   75   55.0   NaN\n",
       "학생10   55   80   95   90.0  75.0\n",
       "학생11   65   65   70    NaN   NaN\n",
       "학생12   95   90   90   70.0   NaN\n",
       "학생13   55   50   85    NaN  95.0\n",
       "학생14   90   60   75  100.0  85.0\n",
       "학생15   55   90   75   95.0  55.0"
      ],
      "text/html": "<div>\n<style scoped>\n    .dataframe tbody tr th:only-of-type {\n        vertical-align: middle;\n    }\n\n    .dataframe tbody tr th {\n        vertical-align: top;\n    }\n\n    .dataframe thead th {\n        text-align: right;\n    }\n</style>\n<table border=\"1\" class=\"dataframe\">\n  <thead>\n    <tr style=\"text-align: right;\">\n      <th></th>\n      <th>국어</th>\n      <th>수학</th>\n      <th>영어</th>\n      <th>물리</th>\n      <th>경제</th>\n    </tr>\n    <tr>\n      <th>성명</th>\n      <th></th>\n      <th></th>\n      <th></th>\n      <th></th>\n      <th></th>\n    </tr>\n  </thead>\n  <tbody>\n    <tr>\n      <th>학생1</th>\n      <td>100</td>\n      <td>100</td>\n      <td>95</td>\n      <td>NaN</td>\n      <td>NaN</td>\n    </tr>\n    <tr>\n      <th>학생2</th>\n      <td>65</td>\n      <td>65</td>\n      <td>95</td>\n      <td>NaN</td>\n      <td>NaN</td>\n    </tr>\n    <tr>\n      <th>학생3</th>\n      <td>85</td>\n      <td>85</td>\n      <td>75</td>\n      <td>NaN</td>\n      <td>NaN</td>\n    </tr>\n    <tr>\n      <th>학생4</th>\n      <td>70</td>\n      <td>95</td>\n      <td>90</td>\n      <td>NaN</td>\n      <td>NaN</td>\n    </tr>\n    <tr>\n      <th>학생5</th>\n      <td>100</td>\n      <td>80</td>\n      <td>75</td>\n      <td>NaN</td>\n      <td>0.0</td>\n    </tr>\n    <tr>\n      <th>학생6</th>\n      <td>100</td>\n      <td>55</td>\n      <td>60</td>\n      <td>85.0</td>\n      <td>50.0</td>\n    </tr>\n    <tr>\n      <th>학생7</th>\n      <td>70</td>\n      <td>55</td>\n      <td>100</td>\n      <td>NaN</td>\n      <td>95.0</td>\n    </tr>\n    <tr>\n      <th>학생8</th>\n      <td>60</td>\n      <td>80</td>\n      <td>95</td>\n      <td>55.0</td>\n      <td>NaN</td>\n    </tr>\n    <tr>\n      <th>학생9</th>\n      <td>70</td>\n      <td>80</td>\n      <td>75</td>\n      <td>55.0</td>\n      <td>NaN</td>\n    </tr>\n    <tr>\n      <th>학생10</th>\n      <td>55</td>\n      <td>80</td>\n      <td>95</td>\n      <td>90.0</td>\n      <td>75.0</td>\n    </tr>\n    <tr>\n      <th>학생11</th>\n      <td>65</td>\n      <td>65</td>\n      <td>70</td>\n      <td>NaN</td>\n      <td>NaN</td>\n    </tr>\n    <tr>\n      <th>학생12</th>\n      <td>95</td>\n      <td>90</td>\n      <td>90</td>\n      <td>70.0</td>\n      <td>NaN</td>\n    </tr>\n    <tr>\n      <th>학생13</th>\n      <td>55</td>\n      <td>50</td>\n      <td>85</td>\n      <td>NaN</td>\n      <td>95.0</td>\n    </tr>\n    <tr>\n      <th>학생14</th>\n      <td>90</td>\n      <td>60</td>\n      <td>75</td>\n      <td>100.0</td>\n      <td>85.0</td>\n    </tr>\n    <tr>\n      <th>학생15</th>\n      <td>55</td>\n      <td>90</td>\n      <td>75</td>\n      <td>95.0</td>\n      <td>55.0</td>\n    </tr>\n  </tbody>\n</table>\n</div>"
     },
     "metadata": {},
     "execution_count": 10
    }
   ],
   "source": [
    "# 성명을 행인댁스로 지정 \n",
    "df.set_index('성명', inplace=True)\n",
    "df"
   ]
  },
  {
   "cell_type": "code",
   "execution_count": 24,
   "metadata": {},
   "outputs": [
    {
     "output_type": "execute_result",
     "data": {
      "text/plain": [
       "       국어   수학   영어     물리    경제\n",
       "성명                              \n",
       "학생1   100  100   95    0.0   0.0\n",
       "학생2    65   65   95    0.0   0.0\n",
       "학생3    85   85   75    0.0   0.0\n",
       "학생4    70   95   90    0.0   0.0\n",
       "학생5   100   80   75    0.0   0.0\n",
       "학생6   100   55   60   85.0  50.0\n",
       "학생7    70   55  100    0.0  95.0\n",
       "학생8    60   80   95   55.0   0.0\n",
       "학생9    70   80   75   55.0   0.0\n",
       "학생10   55   80   95   90.0  75.0\n",
       "학생11   65   65   70    0.0   0.0\n",
       "학생12   95   90   90   70.0   0.0\n",
       "학생13   55   50   85    0.0  95.0\n",
       "학생14   90   60   75  100.0  85.0\n",
       "학생15   55   90   75   95.0  55.0"
      ],
      "text/html": "<div>\n<style scoped>\n    .dataframe tbody tr th:only-of-type {\n        vertical-align: middle;\n    }\n\n    .dataframe tbody tr th {\n        vertical-align: top;\n    }\n\n    .dataframe thead th {\n        text-align: right;\n    }\n</style>\n<table border=\"1\" class=\"dataframe\">\n  <thead>\n    <tr style=\"text-align: right;\">\n      <th></th>\n      <th>국어</th>\n      <th>수학</th>\n      <th>영어</th>\n      <th>물리</th>\n      <th>경제</th>\n    </tr>\n    <tr>\n      <th>성명</th>\n      <th></th>\n      <th></th>\n      <th></th>\n      <th></th>\n      <th></th>\n    </tr>\n  </thead>\n  <tbody>\n    <tr>\n      <th>학생1</th>\n      <td>100</td>\n      <td>100</td>\n      <td>95</td>\n      <td>0.0</td>\n      <td>0.0</td>\n    </tr>\n    <tr>\n      <th>학생2</th>\n      <td>65</td>\n      <td>65</td>\n      <td>95</td>\n      <td>0.0</td>\n      <td>0.0</td>\n    </tr>\n    <tr>\n      <th>학생3</th>\n      <td>85</td>\n      <td>85</td>\n      <td>75</td>\n      <td>0.0</td>\n      <td>0.0</td>\n    </tr>\n    <tr>\n      <th>학생4</th>\n      <td>70</td>\n      <td>95</td>\n      <td>90</td>\n      <td>0.0</td>\n      <td>0.0</td>\n    </tr>\n    <tr>\n      <th>학생5</th>\n      <td>100</td>\n      <td>80</td>\n      <td>75</td>\n      <td>0.0</td>\n      <td>0.0</td>\n    </tr>\n    <tr>\n      <th>학생6</th>\n      <td>100</td>\n      <td>55</td>\n      <td>60</td>\n      <td>85.0</td>\n      <td>50.0</td>\n    </tr>\n    <tr>\n      <th>학생7</th>\n      <td>70</td>\n      <td>55</td>\n      <td>100</td>\n      <td>0.0</td>\n      <td>95.0</td>\n    </tr>\n    <tr>\n      <th>학생8</th>\n      <td>60</td>\n      <td>80</td>\n      <td>95</td>\n      <td>55.0</td>\n      <td>0.0</td>\n    </tr>\n    <tr>\n      <th>학생9</th>\n      <td>70</td>\n      <td>80</td>\n      <td>75</td>\n      <td>55.0</td>\n      <td>0.0</td>\n    </tr>\n    <tr>\n      <th>학생10</th>\n      <td>55</td>\n      <td>80</td>\n      <td>95</td>\n      <td>90.0</td>\n      <td>75.0</td>\n    </tr>\n    <tr>\n      <th>학생11</th>\n      <td>65</td>\n      <td>65</td>\n      <td>70</td>\n      <td>0.0</td>\n      <td>0.0</td>\n    </tr>\n    <tr>\n      <th>학생12</th>\n      <td>95</td>\n      <td>90</td>\n      <td>90</td>\n      <td>70.0</td>\n      <td>0.0</td>\n    </tr>\n    <tr>\n      <th>학생13</th>\n      <td>55</td>\n      <td>50</td>\n      <td>85</td>\n      <td>0.0</td>\n      <td>95.0</td>\n    </tr>\n    <tr>\n      <th>학생14</th>\n      <td>90</td>\n      <td>60</td>\n      <td>75</td>\n      <td>100.0</td>\n      <td>85.0</td>\n    </tr>\n    <tr>\n      <th>학생15</th>\n      <td>55</td>\n      <td>90</td>\n      <td>75</td>\n      <td>95.0</td>\n      <td>55.0</td>\n    </tr>\n  </tbody>\n</table>\n</div>"
     },
     "metadata": {},
     "execution_count": 24
    }
   ],
   "source": [
    "df.fillna(0, inplace=True)\n",
    "df"
   ]
  },
  {
   "cell_type": "code",
   "execution_count": 28,
   "metadata": {},
   "outputs": [
    {
     "output_type": "execute_result",
     "data": {
      "text/plain": [
       "          국어        수학        영어        물리        경제\n",
       "국어  1.000000  0.159839 -0.311279 -0.013638 -0.279372\n",
       "수학  0.159839  1.000000  0.220669  0.009741 -0.616225\n",
       "영어 -0.311279  0.220669  1.000000 -0.270291  0.042298\n",
       "물리 -0.013638  0.009741 -0.270291  1.000000  0.337243\n",
       "경제 -0.279372 -0.616225  0.042298  0.337243  1.000000"
      ],
      "text/html": "<div>\n<style scoped>\n    .dataframe tbody tr th:only-of-type {\n        vertical-align: middle;\n    }\n\n    .dataframe tbody tr th {\n        vertical-align: top;\n    }\n\n    .dataframe thead th {\n        text-align: right;\n    }\n</style>\n<table border=\"1\" class=\"dataframe\">\n  <thead>\n    <tr style=\"text-align: right;\">\n      <th></th>\n      <th>국어</th>\n      <th>수학</th>\n      <th>영어</th>\n      <th>물리</th>\n      <th>경제</th>\n    </tr>\n  </thead>\n  <tbody>\n    <tr>\n      <th>국어</th>\n      <td>1.000000</td>\n      <td>0.159839</td>\n      <td>-0.311279</td>\n      <td>-0.013638</td>\n      <td>-0.279372</td>\n    </tr>\n    <tr>\n      <th>수학</th>\n      <td>0.159839</td>\n      <td>1.000000</td>\n      <td>0.220669</td>\n      <td>0.009741</td>\n      <td>-0.616225</td>\n    </tr>\n    <tr>\n      <th>영어</th>\n      <td>-0.311279</td>\n      <td>0.220669</td>\n      <td>1.000000</td>\n      <td>-0.270291</td>\n      <td>0.042298</td>\n    </tr>\n    <tr>\n      <th>물리</th>\n      <td>-0.013638</td>\n      <td>0.009741</td>\n      <td>-0.270291</td>\n      <td>1.000000</td>\n      <td>0.337243</td>\n    </tr>\n    <tr>\n      <th>경제</th>\n      <td>-0.279372</td>\n      <td>-0.616225</td>\n      <td>0.042298</td>\n      <td>0.337243</td>\n      <td>1.000000</td>\n    </tr>\n  </tbody>\n</table>\n</div>"
     },
     "metadata": {},
     "execution_count": 28
    }
   ],
   "source": [
    "df.corr()"
   ]
  }
 ]
}
