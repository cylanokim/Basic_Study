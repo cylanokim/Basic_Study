{
 "metadata": {
  "language_info": {
   "codemirror_mode": {
    "name": "ipython",
    "version": 3
   },
      "file_extension": ".py",
   "mimetype": "text/x-python",
   "name": "python",
   "nbconvert_exporter": "python",
   "pygments_lexer": "ipython3",
   "version": "3.9.9-final"
  },
  "orig_nbformat": 2,
  "kernelspec": {
   "name": "python3",
   "display_name": "Python 3.9.9 64-bit ('venv': venv)",
   "metadata": {
    "interpreter": {
     "hash": "e7b3a6034bdbb97517a7e157a868360ea9556fc64bcbd52ab0af112bc2a38087"
    }
   }
  }
 },
 "nbformat": 4,
 "nbformat_minor": 2,
 "cells": [
  {
   "cell_type": "code",
   "execution_count": 1,
   "metadata": {},
   "outputs": [],
   "source": [
    "import numpy as np"
   ]
  },
  {
   "cell_type": "code",
   "execution_count": 2,
   "metadata": {},
   "outputs": [
    {
     "output_type": "execute_result",
     "data": {
      "text/plain": [
       "array([[1, 2, 3],\n",
       "       [4, 5, 6],\n",
       "       [7, 8, 9]])"
      ]
     },
     "metadata": {},
     "execution_count": 2
    }
   ],
   "source": [
    "nd = np.array([[1,2,3],[4,5,6],[7,8,9]])\n",
    "nd"
   ]
  },
  {
   "cell_type": "code",
   "execution_count": 6,
   "metadata": {},
   "outputs": [
    {
     "output_type": "execute_result",
     "data": {
      "text/plain": [
       "dtype('int32')"
      ]
     },
     "metadata": {},
     "execution_count": 6
    }
   ],
   "source": [
    "nd.dtype"
   ]
  },
  {
   "cell_type": "code",
   "execution_count": 7,
   "metadata": {},
   "outputs": [
    {
     "output_type": "execute_result",
     "data": {
      "text/plain": [
       "(3, 3)"
      ]
     },
     "metadata": {},
     "execution_count": 7
    }
   ],
   "source": [
    "nd.shape"
   ]
  },
  {
   "cell_type": "code",
   "execution_count": 8,
   "metadata": {},
   "outputs": [
    {
     "output_type": "execute_result",
     "data": {
      "text/plain": [
       "9"
      ]
     },
     "metadata": {},
     "execution_count": 8
    }
   ],
   "source": [
    "nd.size"
   ]
  },
  {
   "cell_type": "code",
   "execution_count": 29,
   "metadata": {},
   "outputs": [
    {
     "output_type": "stream",
     "name": "stdout",
     "text": [
      "[12 15 18]   ,   [ 6 15 24]\n"
     ]
    }
   ],
   "source": [
    "print(nd.sum(axis=0), nd.sum(axis=1), sep='   ,   ')"
   ]
  },
  {
   "cell_type": "code",
   "execution_count": 28,
   "metadata": {},
   "outputs": [
    {
     "output_type": "stream",
     "name": "stdout",
     "text": [
      "9    ,   1\n"
     ]
    }
   ],
   "source": [
    "print(nd.max(), nd.min(), sep='    ,   ')"
   ]
  },
  {
   "cell_type": "code",
   "execution_count": 21,
   "metadata": {},
   "outputs": [
    {
     "output_type": "execute_result",
     "data": {
      "text/plain": [
       "(8, 0)"
      ]
     },
     "metadata": {},
     "execution_count": 21
    }
   ],
   "source": [
    "nd.argmax(), nd.argmin()"
   ]
  },
  {
   "cell_type": "code",
   "execution_count": 25,
   "metadata": {},
   "outputs": [
    {
     "output_type": "execute_result",
     "data": {
      "text/plain": [
       "(array([2], dtype=int64), array([2], dtype=int64))"
      ]
     },
     "metadata": {},
     "execution_count": 25
    }
   ],
   "source": [
    "np.where(nd > 8)"
   ]
  },
  {
   "cell_type": "code",
   "execution_count": 24,
   "metadata": {},
   "outputs": [
    {
     "output_type": "execute_result",
     "data": {
      "text/plain": [
       "array([[1, 2, 3],\n",
       "       [4, 5, 5],\n",
       "       [5, 5, 5]])"
      ]
     },
     "metadata": {},
     "execution_count": 24
    }
   ],
   "source": [
    "# np.where(조건, 조건에 맞을 때 값, 조건과 다를 때 값)\n",
    "np.where(nd>5, 5, nd)"
   ]
  },
  {
   "cell_type": "code",
   "execution_count": 26,
   "metadata": {},
   "outputs": [
    {
     "output_type": "execute_result",
     "data": {
      "text/plain": [
       "False"
      ]
     },
     "metadata": {},
     "execution_count": 26
    }
   ],
   "source": [
    "11 in nd"
   ]
  },
  {
   "cell_type": "code",
   "execution_count": 30,
   "metadata": {},
   "outputs": [
    {
     "output_type": "execute_result",
     "data": {
      "text/plain": [
       "'1.4.3'"
      ]
     },
     "metadata": {},
     "execution_count": 30
    }
   ],
   "source": [
    "import pandas as pd \n",
    "pd.__version__"
   ]
  },
  {
   "cell_type": "code",
   "execution_count": 64,
   "metadata": {},
   "outputs": [
    {
     "output_type": "execute_result",
     "data": {
      "text/plain": [
       "a       1\n",
       "b       2\n",
       "c     3.0\n",
       "d       가\n",
       "e    True\n",
       "f     NaN\n",
       "dtype: object"
      ]
     },
     "metadata": {},
     "execution_count": 64
    }
   ],
   "source": [
    "# 정수 index 자동 부여\n",
    "# series는 1차원, dataframe은 2차원\n",
    "s = pd.Series([1,2,3.0, '가', True, np.nan], index=['a', 'b', 'c', 'd', 'e', 'f'])\n",
    "s"
   ]
  },
  {
   "cell_type": "code",
   "execution_count": 48,
   "metadata": {},
   "outputs": [
    {
     "output_type": "execute_result",
     "data": {
      "text/plain": [
       "(1, '가', nan, True, '없음')"
      ]
     },
     "metadata": {},
     "execution_count": 48
    }
   ],
   "source": [
    "s[0], s['d'], s.iloc[-1], s.loc['e'], s.get('k', '없음') # 'k'라는 index가 없으면 '없음'을 출력"
   ]
  },
  {
   "cell_type": "code",
   "execution_count": 49,
   "metadata": {},
   "outputs": [
    {
     "output_type": "execute_result",
     "data": {
      "text/plain": [
       "a      1\n",
       "b      2\n",
       "c    3.0\n",
       "dtype: object"
      ]
     },
     "metadata": {},
     "execution_count": 49
    }
   ],
   "source": [
    "s1 = s[:3] #끝은 <  /  window를 생성 / .copy()를 통해 복재하는 것이 좋음\n",
    "s1"
   ]
  },
  {
   "cell_type": "code",
   "execution_count": 50,
   "metadata": {},
   "outputs": [
    {
     "output_type": "execute_result",
     "data": {
      "text/plain": [
       "(pandas.core.series.Series, pandas.core.series.Series)"
      ]
     },
     "metadata": {},
     "execution_count": 50
    }
   ],
   "source": [
    "type(s), type(s1)"
   ]
  },
  {
   "cell_type": "code",
   "execution_count": 53,
   "metadata": {},
   "outputs": [
    {
     "output_type": "execute_result",
     "data": {
      "text/plain": [
       "a      1\n",
       "c    3.0\n",
       "f    NaN\n",
       "dtype: object"
      ]
     },
     "metadata": {},
     "execution_count": 53
    }
   ],
   "source": [
    "# fancy indexing : 값이copy가 됨\n",
    "s2 = s[[True, False, True, False, False, True]] \n",
    "s2"
   ]
  },
  {
   "cell_type": "code",
   "execution_count": 79,
   "metadata": {},
   "outputs": [
    {
     "output_type": "execute_result",
     "data": {
      "text/plain": [
       "e     7\n",
       "f     9\n",
       "g    10\n",
       "dtype: int64"
      ]
     },
     "metadata": {},
     "execution_count": 79
    }
   ],
   "source": [
    "s = pd.Series([5,4,2,3,7,9,10], index=['a', 'b', 'c', 'd','e','f','g'])\n",
    "s3 = s[s > 5]\n",
    "s3\n",
    "# s3 = s[s > 2]\n",
    "# s3"
   ]
  },
  {
   "cell_type": "code",
   "execution_count": 80,
   "metadata": {},
   "outputs": [
    {
     "output_type": "execute_result",
     "data": {
      "text/plain": [
       "a    5\n",
       "b    4\n",
       "dtype: int64"
      ]
     },
     "metadata": {},
     "execution_count": 80
    }
   ],
   "source": [
    "s4 = s[(s>3) & (s<7)]\n",
    "s4"
   ]
  },
  {
   "cell_type": "code",
   "execution_count": 85,
   "metadata": {},
   "outputs": [
    {
     "output_type": "stream",
     "name": "stdout",
     "text": [
      "38  ,  3.5\n"
     ]
    }
   ],
   "source": [
    "c = s[s>2].sum()\n",
    "d = s[s<7].mean()\n",
    "print(c,d, sep='  ,  ')"
   ]
  },
  {
   "cell_type": "code",
   "execution_count": 109,
   "metadata": {},
   "outputs": [
    {
     "output_type": "execute_result",
     "data": {
      "text/plain": [
       "            A  B   C\n",
       "2021-01-01  1  4  10\n",
       "2021-01-02  3  6   9\n",
       "2021-01-03  2  8   0"
      ],
      "text/html": "<div>\n<style scoped>\n    .dataframe tbody tr th:only-of-type {\n        vertical-align: middle;\n    }\n\n    .dataframe tbody tr th {\n        vertical-align: top;\n    }\n\n    .dataframe thead th {\n        text-align: right;\n    }\n</style>\n<table border=\"1\" class=\"dataframe\">\n  <thead>\n    <tr style=\"text-align: right;\">\n      <th></th>\n      <th>A</th>\n      <th>B</th>\n      <th>C</th>\n    </tr>\n  </thead>\n  <tbody>\n    <tr>\n      <th>2021-01-01</th>\n      <td>1</td>\n      <td>4</td>\n      <td>10</td>\n    </tr>\n    <tr>\n      <th>2021-01-02</th>\n      <td>3</td>\n      <td>6</td>\n      <td>9</td>\n    </tr>\n    <tr>\n      <th>2021-01-03</th>\n      <td>2</td>\n      <td>8</td>\n      <td>0</td>\n    </tr>\n  </tbody>\n</table>\n</div>"
     },
     "metadata": {},
     "execution_count": 109
    }
   ],
   "source": [
    "dict_1 = {'A':[1,3,2],\n",
    "          'B':[4,6,8],\n",
    "          'C':[10,9,0]}\n",
    "\n",
    "df = pd.DataFrame(dict_1, index=pd.date_range(start='2021-01-01', periods=3))\n",
    "df.head()"
   ]
  },
  {
   "cell_type": "code",
   "execution_count": 110,
   "metadata": {},
   "outputs": [
    {
     "output_type": "stream",
     "name": "stdout",
     "text": [
      "[[ 1  4 10]\n [ 3  6  9]\n [ 2  8  0]],DatetimeIndex(['2021-01-01', '2021-01-02', '2021-01-03'], dtype='datetime64[ns]', freq='D'),Index(['A', 'B', 'C'], dtype='object'),(3, 3),9\n"
     ]
    }
   ],
   "source": [
    "print(df.values, df.index, df.columns, df.shape, df.size,  sep=',')"
   ]
  },
  {
   "cell_type": "code",
   "execution_count": 111,
   "metadata": {},
   "outputs": [
    {
     "output_type": "execute_result",
     "data": {
      "text/plain": [
       "            A   C\n",
       "2021-01-01  1  10\n",
       "2021-01-02  3   9\n",
       "2021-01-03  2   0"
      ],
      "text/html": "<div>\n<style scoped>\n    .dataframe tbody tr th:only-of-type {\n        vertical-align: middle;\n    }\n\n    .dataframe tbody tr th {\n        vertical-align: top;\n    }\n\n    .dataframe thead th {\n        text-align: right;\n    }\n</style>\n<table border=\"1\" class=\"dataframe\">\n  <thead>\n    <tr style=\"text-align: right;\">\n      <th></th>\n      <th>A</th>\n      <th>C</th>\n    </tr>\n  </thead>\n  <tbody>\n    <tr>\n      <th>2021-01-01</th>\n      <td>1</td>\n      <td>10</td>\n    </tr>\n    <tr>\n      <th>2021-01-02</th>\n      <td>3</td>\n      <td>9</td>\n    </tr>\n    <tr>\n      <th>2021-01-03</th>\n      <td>2</td>\n      <td>0</td>\n    </tr>\n  </tbody>\n</table>\n</div>"
     },
     "metadata": {},
     "execution_count": 111
    }
   ],
   "source": [
    "df[['A', 'C']]"
   ]
  },
  {
   "cell_type": "code",
   "execution_count": 115,
   "metadata": {},
   "outputs": [
    {
     "output_type": "execute_result",
     "data": {
      "text/plain": [
       "            A  B   C\n",
       "2021-01-01  1  4  10\n",
       "2021-01-02  3  6   9"
      ],
      "text/html": "<div>\n<style scoped>\n    .dataframe tbody tr th:only-of-type {\n        vertical-align: middle;\n    }\n\n    .dataframe tbody tr th {\n        vertical-align: top;\n    }\n\n    .dataframe thead th {\n        text-align: right;\n    }\n</style>\n<table border=\"1\" class=\"dataframe\">\n  <thead>\n    <tr style=\"text-align: right;\">\n      <th></th>\n      <th>A</th>\n      <th>B</th>\n      <th>C</th>\n    </tr>\n  </thead>\n  <tbody>\n    <tr>\n      <th>2021-01-01</th>\n      <td>1</td>\n      <td>4</td>\n      <td>10</td>\n    </tr>\n    <tr>\n      <th>2021-01-02</th>\n      <td>3</td>\n      <td>6</td>\n      <td>9</td>\n    </tr>\n  </tbody>\n</table>\n</div>"
     },
     "metadata": {},
     "execution_count": 115
    }
   ],
   "source": [
    "df[:'2021-01-02']"
   ]
  },
  {
   "cell_type": "code",
   "execution_count": 120,
   "metadata": {},
   "outputs": [
    {
     "output_type": "execute_result",
     "data": {
      "text/plain": [
       "3"
      ]
     },
     "metadata": {},
     "execution_count": 120
    }
   ],
   "source": [
    "df['A']['01/02/2021'] # 날짜 타입(DatetimeIndex)으로 indexing하면 표기 방법이 바뀌어도 상관 없다."
   ]
  },
  {
   "cell_type": "code",
   "execution_count": 119,
   "metadata": {},
   "outputs": [
    {
     "output_type": "execute_result",
     "data": {
      "text/plain": [
       "2021-01-01    1\n",
       "2021-01-02    3\n",
       "Freq: D, Name: A, dtype: int64"
      ]
     },
     "metadata": {},
     "execution_count": 119
    }
   ],
   "source": [
    "df[:'2021-01-02']['A']"
   ]
  },
  {
   "cell_type": "code",
   "execution_count": 114,
   "metadata": {},
   "outputs": [
    {
     "output_type": "execute_result",
     "data": {
      "text/plain": [
       "DatetimeIndex(['2021-01-01', '2021-01-02', '2021-01-03'], dtype='datetime64[ns]', freq='D')"
      ]
     },
     "metadata": {},
     "execution_count": 114
    }
   ],
   "source": [
    "# 시계열 indexing\n",
    "df.index"
   ]
  },
  {
   "cell_type": "code",
   "execution_count": 121,
   "metadata": {},
   "outputs": [
    {
     "output_type": "execute_result",
     "data": {
      "text/plain": [
       "A    2\n",
       "B    8\n",
       "C    0\n",
       "Name: 2021-01-03 00:00:00, dtype: int64"
      ]
     },
     "metadata": {},
     "execution_count": 121
    }
   ],
   "source": [
    "df.loc['2021-01-03'] # --> series(1차원) data로 넘어온다."
   ]
  },
  {
   "cell_type": "code",
   "execution_count": 125,
   "metadata": {},
   "outputs": [
    {
     "output_type": "execute_result",
     "data": {
      "text/plain": [
       "2021-01-01    4\n",
       "2021-01-02    6\n",
       "2021-01-03    8\n",
       "Freq: D, Name: B, dtype: int64"
      ]
     },
     "metadata": {},
     "execution_count": 125
    }
   ],
   "source": [
    "df.loc[:,'B'] # --> series(1차원) data로 넘어온다."
   ]
  },
  {
   "cell_type": "code",
   "execution_count": 127,
   "metadata": {},
   "outputs": [
    {
     "output_type": "execute_result",
     "data": {
      "text/plain": [
       "            A   C\n",
       "2021-01-01  1  10\n",
       "2021-01-02  3   9\n",
       "2021-01-03  2   0"
      ],
      "text/html": "<div>\n<style scoped>\n    .dataframe tbody tr th:only-of-type {\n        vertical-align: middle;\n    }\n\n    .dataframe tbody tr th {\n        vertical-align: top;\n    }\n\n    .dataframe thead th {\n        text-align: right;\n    }\n</style>\n<table border=\"1\" class=\"dataframe\">\n  <thead>\n    <tr style=\"text-align: right;\">\n      <th></th>\n      <th>A</th>\n      <th>C</th>\n    </tr>\n  </thead>\n  <tbody>\n    <tr>\n      <th>2021-01-01</th>\n      <td>1</td>\n      <td>10</td>\n    </tr>\n    <tr>\n      <th>2021-01-02</th>\n      <td>3</td>\n      <td>9</td>\n    </tr>\n    <tr>\n      <th>2021-01-03</th>\n      <td>2</td>\n      <td>0</td>\n    </tr>\n  </tbody>\n</table>\n</div>"
     },
     "metadata": {},
     "execution_count": 127
    }
   ],
   "source": [
    "df.loc[:, ['A','C']] # ['A':'C'] 도 가능"
   ]
  },
  {
   "cell_type": "code",
   "execution_count": 132,
   "metadata": {},
   "outputs": [
    {
     "output_type": "execute_result",
     "data": {
      "text/plain": [
       "            A  B  C\n",
       "2021-01-02  3  6  9\n",
       "2021-01-03  2  8  0"
      ],
      "text/html": "<div>\n<style scoped>\n    .dataframe tbody tr th:only-of-type {\n        vertical-align: middle;\n    }\n\n    .dataframe tbody tr th {\n        vertical-align: top;\n    }\n\n    .dataframe thead th {\n        text-align: right;\n    }\n</style>\n<table border=\"1\" class=\"dataframe\">\n  <thead>\n    <tr style=\"text-align: right;\">\n      <th></th>\n      <th>A</th>\n      <th>B</th>\n      <th>C</th>\n    </tr>\n  </thead>\n  <tbody>\n    <tr>\n      <th>2021-01-02</th>\n      <td>3</td>\n      <td>6</td>\n      <td>9</td>\n    </tr>\n    <tr>\n      <th>2021-01-03</th>\n      <td>2</td>\n      <td>8</td>\n      <td>0</td>\n    </tr>\n  </tbody>\n</table>\n</div>"
     },
     "metadata": {},
     "execution_count": 132
    }
   ],
   "source": [
    "# B열이 5보다 큰 행을 선택(많이 안씀)\n",
    "df.loc[df.loc[:,'B'] > 5]"
   ]
  },
  {
   "cell_type": "code",
   "execution_count": 136,
   "metadata": {},
   "outputs": [
    {
     "output_type": "execute_result",
     "data": {
      "text/plain": [
       "            B   C\n",
       "2021-01-01  4  10\n",
       "2021-01-02  6   9\n",
       "2021-01-03  8   0"
      ],
      "text/html": "<div>\n<style scoped>\n    .dataframe tbody tr th:only-of-type {\n        vertical-align: middle;\n    }\n\n    .dataframe tbody tr th {\n        vertical-align: top;\n    }\n\n    .dataframe thead th {\n        text-align: right;\n    }\n</style>\n<table border=\"1\" class=\"dataframe\">\n  <thead>\n    <tr style=\"text-align: right;\">\n      <th></th>\n      <th>B</th>\n      <th>C</th>\n    </tr>\n  </thead>\n  <tbody>\n    <tr>\n      <th>2021-01-01</th>\n      <td>4</td>\n      <td>10</td>\n    </tr>\n    <tr>\n      <th>2021-01-02</th>\n      <td>6</td>\n      <td>9</td>\n    </tr>\n    <tr>\n      <th>2021-01-03</th>\n      <td>8</td>\n      <td>0</td>\n    </tr>\n  </tbody>\n</table>\n</div>"
     },
     "metadata": {},
     "execution_count": 136
    }
   ],
   "source": [
    "# '2021-01-02'이 5보다 큰 열을 선택\n",
    "df.loc[:, df.loc['2021-01-02'] > 5]"
   ]
  },
  {
   "cell_type": "code",
   "execution_count": 137,
   "metadata": {},
   "outputs": [
    {
     "output_type": "execute_result",
     "data": {
      "text/plain": [
       "            A  B  C\n",
       "2021-01-02  3  6  9\n",
       "2021-01-03  2  8  0"
      ],
      "text/html": "<div>\n<style scoped>\n    .dataframe tbody tr th:only-of-type {\n        vertical-align: middle;\n    }\n\n    .dataframe tbody tr th {\n        vertical-align: top;\n    }\n\n    .dataframe thead th {\n        text-align: right;\n    }\n</style>\n<table border=\"1\" class=\"dataframe\">\n  <thead>\n    <tr style=\"text-align: right;\">\n      <th></th>\n      <th>A</th>\n      <th>B</th>\n      <th>C</th>\n    </tr>\n  </thead>\n  <tbody>\n    <tr>\n      <th>2021-01-02</th>\n      <td>3</td>\n      <td>6</td>\n      <td>9</td>\n    </tr>\n    <tr>\n      <th>2021-01-03</th>\n      <td>2</td>\n      <td>8</td>\n      <td>0</td>\n    </tr>\n  </tbody>\n</table>\n</div>"
     },
     "metadata": {},
     "execution_count": 137
    }
   ],
   "source": [
    "# B열이 5보다 큰 행을 선택(이게 더 편함)\n",
    "df.loc[df['B']>5]"
   ]
  },
    {
   "cell_type": "code",
   "execution_count": 142,
   "metadata": {},
   "outputs": [
    {
     "output_type": "execute_result",
     "data": {
      "text/plain": [
       "             A    B     C\n",
       "2021-01-01 NaN  NaN  10.0\n",
       "2021-01-02 NaN  6.0   9.0\n",
       "2021-01-03 NaN  8.0   NaN"
      ],
      "text/html": "<div>\n<style scoped>\n    .dataframe tbody tr th:only-of-type {\n        vertical-align: middle;\n    }\n\n    .dataframe tbody tr th {\n        vertical-align: top;\n    }\n\n    .dataframe thead th {\n        text-align: right;\n    }\n</style>\n<table border=\"1\" class=\"dataframe\">\n  <thead>\n    <tr style=\"text-align: right;\">\n      <th></th>\n      <th>A</th>\n      <th>B</th>\n      <th>C</th>\n    </tr>\n  </thead>\n  <tbody>\n    <tr>\n      <th>2021-01-01</th>\n      <td>NaN</td>\n      <td>NaN</td>\n      <td>10.0</td>\n    </tr>\n    <tr>\n      <th>2021-01-02</th>\n      <td>NaN</td>\n      <td>6.0</td>\n      <td>9.0</td>\n    </tr>\n    <tr>\n      <th>2021-01-03</th>\n      <td>NaN</td>\n      <td>8.0</td>\n      <td>NaN</td>\n    </tr>\n  </tbody>\n</table>\n</div>"
     },
     "metadata": {},
     "execution_count": 142
    }
   ],
   "source": [
    "df_1 = df[df > 5]\n",
    "df_1"
   ]
  },
  {
   "cell_type": "code",
   "execution_count": 143,
   "metadata": {},
   "outputs": [
    {
     "output_type": "execute_result",
     "data": {
      "text/plain": [
       "               A      B      C\n",
       "2021-01-01  True   True  False\n",
       "2021-01-02  True  False  False\n",
       "2021-01-03  True  False   True"
      ],
      "text/html": "<div>\n<style scoped>\n    .dataframe tbody tr th:only-of-type {\n        vertical-align: middle;\n    }\n\n    .dataframe tbody tr th {\n        vertical-align: top;\n    }\n\n    .dataframe thead th {\n        text-align: right;\n    }\n</style>\n<table border=\"1\" class=\"dataframe\">\n  <thead>\n    <tr style=\"text-align: right;\">\n      <th></th>\n      <th>A</th>\n      <th>B</th>\n      <th>C</th>\n    </tr>\n  </thead>\n  <tbody>\n    <tr>\n      <th>2021-01-01</th>\n      <td>True</td>\n      <td>True</td>\n      <td>False</td>\n    </tr>\n    <tr>\n      <th>2021-01-02</th>\n      <td>True</td>\n      <td>False</td>\n      <td>False</td>\n    </tr>\n    <tr>\n      <th>2021-01-03</th>\n      <td>True</td>\n      <td>False</td>\n      <td>True</td>\n    </tr>\n  </tbody>\n</table>\n</div>"
     },
     "metadata": {},
     "execution_count": 143
    }
   ],
   "source": [
    "df_1.isnull() # True는 Nan"
   ]
  },
  {
   "cell_type": "code",
   "execution_count": 145,
   "metadata": {},
   "outputs": [
    {
     "output_type": "execute_result",
     "data": {
      "text/plain": [
       "A    1.000000\n",
       "B    0.333333\n",
       "C    0.333333\n",
       "dtype: float64"
      ]
     },
     "metadata": {},
     "execution_count": 145
    }
   ],
   "source": [
    "df_1.isnull().sum() / len(df)"
   ]
  },
  {
   "cell_type": "code",
   "execution_count": 176,
   "metadata": {},
   "outputs": [
    {
     "output_type": "execute_result",
     "data": {
      "text/plain": [
       "                   0         1         2         3\n",
       "2021-01-01 -0.807889 -0.426899  1.512997  1.144770\n",
       "2021-01-02 -0.451234  0.554571       NaN  0.210467\n",
       "2021-01-03 -0.126733 -1.503842 -1.696158 -2.536176\n",
       "2021-01-04 -1.919298 -2.306133  0.576092 -0.179007\n",
       "2021-01-05 -0.770759  0.293271 -1.715665       NaN"
      ],
      "text/html": "<div>\n<style scoped>\n    .dataframe tbody tr th:only-of-type {\n        vertical-align: middle;\n    }\n\n    .dataframe tbody tr th {\n        vertical-align: top;\n    }\n\n    .dataframe thead th {\n        text-align: right;\n    }\n</style>\n<table border=\"1\" class=\"dataframe\">\n  <thead>\n    <tr style=\"text-align: right;\">\n      <th></th>\n      <th>0</th>\n      <th>1</th>\n      <th>2</th>\n      <th>3</th>\n    </tr>\n  </thead>\n  <tbody>\n    <tr>\n      <th>2021-01-01</th>\n      <td>-0.807889</td>\n      <td>-0.426899</td>\n      <td>1.512997</td>\n      <td>1.144770</td>\n    </tr>\n    <tr>\n      <th>2021-01-02</th>\n      <td>-0.451234</td>\n      <td>0.554571</td>\n      <td>NaN</td>\n      <td>0.210467</td>\n    </tr>\n    <tr>\n      <th>2021-01-03</th>\n      <td>-0.126733</td>\n      <td>-1.503842</td>\n      <td>-1.696158</td>\n      <td>-2.536176</td>\n    </tr>\n    <tr>\n      <th>2021-01-04</th>\n      <td>-1.919298</td>\n      <td>-2.306133</td>\n      <td>0.576092</td>\n      <td>-0.179007</td>\n    </tr>\n    <tr>\n      <th>2021-01-05</th>\n      <td>-0.770759</td>\n      <td>0.293271</td>\n      <td>-1.715665</td>\n      <td>NaN</td>\n    </tr>\n  </tbody>\n</table>\n</div>"
     },
     "metadata": {},
     "execution_count": 176
    }
   ],
   "source": [
    "# 결측치 삭제 : data가 많을 경우\n",
    "df = pd.DataFrame(np.random.randn(5,4), index=pd.date_range(start='2021-01-01', periods=5))\n",
    "df.iloc[1,2] = np.nan\n",
    "df.iloc[4,3] = np.nan\n",
    "df"
   ]
  },
  {
   "cell_type": "code",
   "execution_count": 185,
   "metadata": {},
   "outputs": [
    {
     "output_type": "execute_result",
     "data": {
      "text/plain": [
       "                   0         1         2         3\n",
       "2021-01-01 -0.807889 -0.426899  1.512997  1.144770\n",
       "2021-01-03 -0.126733 -1.503842 -1.696158 -2.536176\n",
       "2021-01-04 -1.919298 -2.306133  0.576092 -0.179007"
      ],
      "text/html": "<div>\n<style scoped>\n    .dataframe tbody tr th:only-of-type {\n        vertical-align: middle;\n    }\n\n    .dataframe tbody tr th {\n        vertical-align: top;\n    }\n\n    .dataframe thead th {\n        text-align: right;\n    }\n</style>\n<table border=\"1\" class=\"dataframe\">\n  <thead>\n    <tr style=\"text-align: right;\">\n      <th></th>\n      <th>0</th>\n      <th>1</th>\n      <th>2</th>\n      <th>3</th>\n    </tr>\n  </thead>\n  <tbody>\n    <tr>\n      <th>2021-01-01</th>\n      <td>-0.807889</td>\n      <td>-0.426899</td>\n      <td>1.512997</td>\n      <td>1.144770</td>\n    </tr>\n    <tr>\n      <th>2021-01-03</th>\n      <td>-0.126733</td>\n      <td>-1.503842</td>\n      <td>-1.696158</td>\n      <td>-2.536176</td>\n    </tr>\n    <tr>\n      <th>2021-01-04</th>\n      <td>-1.919298</td>\n      <td>-2.306133</td>\n      <td>0.576092</td>\n      <td>-0.179007</td>\n    </tr>\n  </tbody>\n</table>\n</div>"
     },
     "metadata": {},
     "execution_count": 185
    }
   ],
   "source": [
    "df_drop1 = df.dropna(axis=0, how='any') # Nan이 있는 행이 삭제\n",
    "df_drop1"
   ]
  },
  {
   "cell_type": "code",
   "execution_count": 184,
   "metadata": {},
   "outputs": [
    {
     "output_type": "execute_result",
     "data": {
      "text/plain": [
       "                   0         1\n",
       "2021-01-01 -0.807889 -0.426899\n",
       "2021-01-02 -0.451234  0.554571\n",
       "2021-01-03 -0.126733 -1.503842\n",
       "2021-01-04 -1.919298 -2.306133\n",
       "2021-01-05 -0.770759  0.293271"
      ],
      "text/html": "<div>\n<style scoped>\n    .dataframe tbody tr th:only-of-type {\n        vertical-align: middle;\n    }\n\n    .dataframe tbody tr th {\n        vertical-align: top;\n    }\n\n    .dataframe thead th {\n        text-align: right;\n    }\n</style>\n<table border=\"1\" class=\"dataframe\">\n  <thead>\n    <tr style=\"text-align: right;\">\n      <th></th>\n      <th>0</th>\n      <th>1</th>\n    </tr>\n  </thead>\n  <tbody>\n    <tr>\n      <th>2021-01-01</th>\n      <td>-0.807889</td>\n      <td>-0.426899</td>\n    </tr>\n    <tr>\n      <th>2021-01-02</th>\n      <td>-0.451234</td>\n      <td>0.554571</td>\n    </tr>\n    <tr>\n      <th>2021-01-03</th>\n      <td>-0.126733</td>\n      <td>-1.503842</td>\n    </tr>\n    <tr>\n      <th>2021-01-04</th>\n      <td>-1.919298</td>\n      <td>-2.306133</td>\n    </tr>\n    <tr>\n      <th>2021-01-05</th>\n      <td>-0.770759</td>\n      <td>0.293271</td>\n    </tr>\n  </tbody>\n</table>\n</div>"
     },
     "metadata": {},
     "execution_count": 184
    }
   ],
   "source": [
    "df_drop2 = df.dropna(axis=1, how='any') # nan이 있는 열을 삭제\n",
    "df_drop2"
   ]
  },
  {
   "cell_type": "code",
   "execution_count": 169,
   "metadata": {},
   "outputs": [
    {
     "output_type": "execute_result",
     "data": {
      "text/plain": [
       "          0         1         2         3\n",
       "0  0.182469  1.483328 -1.761322 -0.309227\n",
       "1 -2.077196  1.076549       NaN  2.031431\n",
       "2  1.012090 -0.817927  0.055333  1.127982\n",
       "3 -0.143831 -1.516651  0.807773  0.543700\n",
       "4  0.725931 -0.739215  0.492679       NaN"
      ],
      "text/html": "<div>\n<style scoped>\n    .dataframe tbody tr th:only-of-type {\n        vertical-align: middle;\n    }\n\n    .dataframe tbody tr th {\n        vertical-align: top;\n    }\n\n    .dataframe thead th {\n        text-align: right;\n    }\n</style>\n<table border=\"1\" class=\"dataframe\">\n  <thead>\n    <tr style=\"text-align: right;\">\n      <th></th>\n      <th>0</th>\n      <th>1</th>\n      <th>2</th>\n      <th>3</th>\n    </tr>\n  </thead>\n  <tbody>\n    <tr>\n      <th>0</th>\n      <td>0.182469</td>\n      <td>1.483328</td>\n      <td>-1.761322</td>\n      <td>-0.309227</td>\n    </tr>\n    <tr>\n      <th>1</th>\n      <td>-2.077196</td>\n      <td>1.076549</td>\n      <td>NaN</td>\n      <td>2.031431</td>\n    </tr>\n    <tr>\n      <th>2</th>\n      <td>1.012090</td>\n      <td>-0.817927</td>\n      <td>0.055333</td>\n      <td>1.127982</td>\n    </tr>\n    <tr>\n      <th>3</th>\n      <td>-0.143831</td>\n      <td>-1.516651</td>\n      <td>0.807773</td>\n      <td>0.543700</td>\n    </tr>\n    <tr>\n      <th>4</th>\n      <td>0.725931</td>\n      <td>-0.739215</td>\n      <td>0.492679</td>\n      <td>NaN</td>\n    </tr>\n  </tbody>\n</table>\n</div>"
     },
     "metadata": {},
     "execution_count": 169
    }
   ],
   "source": [
    "df_drop3 = df.dropna(axis=0, how='all') # how = 'all' 모든 data가 nan일 경우 / default는 how='any'\n",
    "df_drop3"
   ]
  },
